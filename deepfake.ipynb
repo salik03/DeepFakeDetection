{
 "cells": [
  {
   "cell_type": "code",
   "execution_count": null,
   "metadata": {},
   "outputs": [],
   "source": [
    "import numpy as np\n",
    "import tensorflow as tf\n",
    "from tensorflow.keras.applications import Xception\n",
    "from tensorflow.keras.layers import GlobalAveragePooling2D, Dense\n",
    "from tensorflow.keras.models import Model\n",
    "\n",
    "def load_deepfake_model(weights_path):\n",
    "    xception_model = Xception(input_shape=(224, 224, 3), include_top=False, weights='imagenet')\n",
    "\n",
    "    for layer in xception_model.layers[:-4]:\n",
    "        layer.trainable = False\n",
    "\n",
    "    output = xception_model.output\n",
    "    output = GlobalAveragePooling2D()(output)\n",
    "    output = Dense(256, activation='relu')(output)\n",
    "    output = Dense(1, activation='sigmoid')(output)\n",
    "\n",
    "    model = Model(inputs=xception_model.input, outputs=output)\n",
    "\n",
    "    model.load_weights(weights_path)\n",
    "\n",
    "    model.compile(optimizer='adam', loss='binary_crossentropy', metrics=['accuracy'])\n",
    "\n",
    "    return model\n",
    "\n",
    "class DeepFakeDetectionModel:\n",
    "    \"\"\"Class to handle deepfake detection with a pretrained Xception model.\n",
    "    \"\"\"\n",
    "    def __init__(self, path_to_weights):\n",
    "        self.model = load_deepfake_model(path_to_weights)\n",
    "\n",
    "    def predict(self, image_array):\n",
    "        \"\"\"Predict whether an image is a deepfake.\n",
    "        Args:\n",
    "            image_array (np.array): Preprocessed image array ready for prediction.\n",
    "\n",
    "        Returns:\n",
    "            float: The probability of the image being a deepfake.\n",
    "        \"\"\"\n",
    "        return self.model.predict(image_array)\n",
    "\n",
    "if __name__ == \"__main__\":\n",
    "    model = DeepFakeDetectionModel(\"xception_weights.h5\")\n",
    "    prediction = model.predict(test_images)\n",
    "    print(\"Prediction: \", prediction)\n"
   ]
  },
  {
   "cell_type": "code",
   "execution_count": 1,
   "metadata": {},
   "outputs": [
    {
     "name": "stdout",
     "output_type": "stream",
     "text": [
      "Downloading data from https://storage.googleapis.com/tensorflow/keras-applications/xception/xception_weights_tf_dim_ordering_tf_kernels_notop.h5\n",
      "83683744/83683744 [==============================] - 36s 0us/step\n",
      " * Serving Flask app '__main__'\n",
      " * Debug mode: on\n"
     ]
    },
    {
     "name": "stderr",
     "output_type": "stream",
     "text": [
      "WARNING: This is a development server. Do not use it in a production deployment. Use a production WSGI server instead.\n",
      " * Running on http://127.0.0.1:5000\n",
      "Press CTRL+C to quit\n",
      " * Restarting with watchdog (windowsapi)\n"
     ]
    },
    {
     "ename": "SystemExit",
     "evalue": "1",
     "output_type": "error",
     "traceback": [
      "An exception has occurred, use %tb to see the full traceback.\n",
      "\u001b[1;31mSystemExit\u001b[0m\u001b[1;31m:\u001b[0m 1\n"
     ]
    },
    {
     "name": "stderr",
     "output_type": "stream",
     "text": [
      "C:\\Users\\Asus\\AppData\\Roaming\\Python\\Python311\\site-packages\\IPython\\core\\interactiveshell.py:3516: UserWarning: To exit: use 'exit', 'quit', or Ctrl-D.\n",
      "  warn(\"To exit: use 'exit', 'quit', or Ctrl-D.\", stacklevel=1)\n"
     ]
    }
   ],
   "source": [
    "from flask import Flask, request, jsonify\n",
    "import numpy as np\n",
    "import tensorflow as tf\n",
    "from tensorflow.keras.models import Model\n",
    "from tensorflow.keras.layers import GlobalAveragePooling2D, Dense\n",
    "from tensorflow.keras.applications import Xception\n",
    "import base64\n",
    "from io import BytesIO\n",
    "from PIL import Image\n",
    "\n",
    "app = Flask(__name__)\n",
    "\n",
    "def load_deepfake_model(weights_path):\n",
    "    xception_model = Xception(input_shape=(224, 224, 3), include_top=False, weights='imagenet')\n",
    "    for layer in xception_model.layers[:-4]:\n",
    "        layer.trainable = False\n",
    "\n",
    "    output = xception_model.output\n",
    "    output = GlobalAveragePooling2D()(output)\n",
    "    output = Dense(256, activation='relu')(output)\n",
    "    output = Dense(1, activation='sigmoid')(output)\n",
    "    model = Model(inputs=xception_model.input, outputs=output)\n",
    "    model.load_weights(weights_path)\n",
    "    model.compile(optimizer='adam', loss='binary_crossentropy', metrics=['accuracy'])\n",
    "    return model\n",
    "\n",
    "model = load_deepfake_model('xception_weights.h5')\n",
    "\n",
    "def decode_and_preprocess_image(base64_image):\n",
    "    image_bytes = base64.b64decode(base64_image)\n",
    "    img = Image.open(BytesIO(image_bytes))\n",
    "    img = img.resize((224, 224))\n",
    "    img_array = np.array(img)\n",
    "    img_array = np.expand_dims(img_array, axis=0)\n",
    "    return img_array\n",
    "\n",
    "@app.route('/predict', methods=['POST'])\n",
    "def predict():\n",
    "    data = request.get_json()\n",
    "    base64_image = data['image']\n",
    "    image_array = decode_and_preprocess_image(base64_image)\n",
    "    prediction = model.predict(image_array)\n",
    "    probability = prediction[0][0]\n",
    "    return jsonify({'probability': float(probability)})\n",
    "\n",
    "if __name__ == '__main__':\n",
    "    app.run(debug=True, port=5000)\n"
   ]
  }
 ],
 "metadata": {
  "kernelspec": {
   "display_name": "Python 3",
   "language": "python",
   "name": "python3"
  },
  "language_info": {
   "codemirror_mode": {
    "name": "ipython",
    "version": 3
   },
   "file_extension": ".py",
   "mimetype": "text/x-python",
   "name": "python",
   "nbconvert_exporter": "python",
   "pygments_lexer": "ipython3",
   "version": "3.11.4"
  }
 },
 "nbformat": 4,
 "nbformat_minor": 2
}
